{
 "cells": [
  {
   "cell_type": "code",
   "execution_count": 1,
   "metadata": {},
   "outputs": [],
   "source": [
    "import numpy as np\n",
    "import pandas as pd\n",
    "import tensorflow as tf\n"
   ]
  },
  {
   "cell_type": "code",
   "execution_count": 2,
   "metadata": {},
   "outputs": [],
   "source": [
    "# Define the parsimonious neural network model\n",
    "def create_model(input_dim, output_dim):\n",
    "    model = tf.keras.Sequential([\n",
    "        tf.keras.layers.Dense(32, activation='relu', input_dim=input_dim),\n",
    "        tf.keras.layers.Dense(16, activation='relu'),\n",
    "        tf.keras.layers.Dense(output_dim, activation='softmax')\n",
    "    ])\n",
    "    model.compile(optimizer='adam', loss='categorical_crossentropy')\n",
    "    return model\n"
   ]
  },
  {
   "cell_type": "code",
   "execution_count": 3,
   "metadata": {},
   "outputs": [],
   "source": [
    "# Generate synthetic data for training\n",
    "def generate_data(num_samples, num_assets):\n",
    "    np.random.seed(0)\n",
    "    returns = np.random.randn(num_samples, num_assets)\n",
    "    cov_matrix = np.cov(returns.T)\n",
    "    return returns, cov_matrix\n"
   ]
  },
  {
   "cell_type": "code",
   "execution_count": 7,
   "metadata": {},
   "outputs": [],
   "source": [
    "# Perform portfolio optimization using parsimonious neural network\n",
    "def portfolio_optimization(returns, cov_matrix):\n",
    "    num_samples, num_assets = returns.shape\n",
    "    # Normalize returns\n",
    "    returns_norm = (returns - np.mean(returns, axis=0)) / np.std(returns, axis=0)\n",
    "    # Create target labels for training\n",
    "    target_labels = np.zeros((num_samples, num_assets))\n",
    "    target_labels[np.arange(num_samples), np.argmax(returns_norm, axis=1)] = 1\n",
    "\n",
    "    # Train the neural network model\n",
    "    model = create_model(num_assets, num_assets)\n",
    "    model.fit(returns_norm, target_labels, epochs=100, verbose=0)\n",
    "\n",
    "    # Generate predicted portfolio weights\n",
    "    predicted_weights = model.predict(returns_norm)\n",
    "    predicted_weights = predicted_weights / np.sum(predicted_weights, axis=1, keepdims=True)\n",
    "\n",
    "    return predicted_weights\n"
   ]
  },
  {
   "cell_type": "code",
   "execution_count": 8,
   "metadata": {},
   "outputs": [
    {
     "name": "stdout",
     "output_type": "stream",
     "text": [
      "32/32 [==============================] - 1s 4ms/step\n"
     ]
    }
   ],
   "source": [
    "# Example usage\n",
    "returns, cov_matrix = generate_data(num_samples=1000, num_assets=10)\n",
    "predicted_weights = portfolio_optimization(returns, cov_matrix)\n",
    "\n"
   ]
  },
  {
   "cell_type": "code",
   "execution_count": 9,
   "metadata": {},
   "outputs": [
    {
     "name": "stdout",
     "output_type": "stream",
     "text": [
      "[[3.7153061e-03 1.5353070e-10 1.5138141e-06 ... 1.6556286e-11\n",
      "  1.4318924e-08 1.4276612e-10]\n",
      " [1.1781717e-07 2.9789407e-02 6.4039783e-04 ... 3.1025715e-07\n",
      "  6.7291694e-07 1.1110824e-09]\n",
      " [2.2208539e-15 2.6809614e-08 6.6901430e-07 ... 2.8745790e-08\n",
      "  9.4689028e-07 3.7891471e-06]\n",
      " ...\n",
      " [9.0307248e-15 6.6135031e-14 3.1844233e-10 ... 1.3166311e-06\n",
      "  1.0028238e-11 9.9999863e-01]\n",
      " [3.4212979e-04 2.0682994e-02 5.3550291e-04 ... 1.5659706e-04\n",
      "  3.0499918e-05 3.2773398e-06]\n",
      " [2.2848635e-08 3.1309373e-14 1.5744338e-06 ... 5.3352434e-08\n",
      "  4.2979247e-09 1.3321159e-05]]\n"
     ]
    }
   ],
   "source": [
    "# Print the predicted portfolio weights\n",
    "print(predicted_weights)"
   ]
  }
 ],
 "metadata": {
  "kernelspec": {
   "display_name": "Python 3",
   "language": "python",
   "name": "python3"
  },
  "language_info": {
   "codemirror_mode": {
    "name": "ipython",
    "version": 3
   },
   "file_extension": ".py",
   "mimetype": "text/x-python",
   "name": "python",
   "nbconvert_exporter": "python",
   "pygments_lexer": "ipython3",
   "version": "3.11.1"
  },
  "orig_nbformat": 4
 },
 "nbformat": 4,
 "nbformat_minor": 2
}
