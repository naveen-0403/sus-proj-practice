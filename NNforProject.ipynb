{
 "cells": [
  {
   "cell_type": "code",
   "execution_count": 11,
   "metadata": {},
   "outputs": [
    {
     "name": "stdout",
     "output_type": "stream",
     "text": [
      "[*********************100%***********************]  10 of 10 completed\n"
     ]
    }
   ],
   "source": [
    "import pandas as pd\n",
    "tickers_list = ['AAPL', 'WMT', 'IBM', 'MU', 'BA', 'AXP','DIS', 'TSLA', 'AMZN', 'GOOGL']\n",
    "\n",
    "# Fetch the data\n",
    "import yfinance as yf\n",
    "data = yf.download(tickers_list,'2015-1-1')['Adj Close']"
   ]
  },
  {
   "cell_type": "code",
   "execution_count": 12,
   "metadata": {},
   "outputs": [
    {
     "name": "stdout",
     "output_type": "stream",
     "text": [
      "                  AAPL        AMZN         AXP          BA        DIS  \\\n",
      "Date                                                                    \n",
      "2015-01-02   24.531765   15.426000   81.618019  113.657227  87.376259   \n",
      "2015-01-05   23.840668   15.109500   79.459549  112.870071  86.099403   \n",
      "2015-01-06   23.842909   14.764500   77.766106  111.540627  85.642715   \n",
      "2015-01-07   24.177237   14.921000   79.464531  113.272392  86.518814   \n",
      "2015-01-08   25.106184   15.023000   80.590919  115.275276  87.413544   \n",
      "...                ...         ...         ...         ...        ...   \n",
      "2023-07-12  189.770004  130.800003  174.330002  217.110001  90.150002   \n",
      "2023-07-13  190.539993  134.300003  174.240005  216.850006  90.470001   \n",
      "2023-07-14  190.690002  134.679993  173.389999  213.119995  88.620003   \n",
      "2023-07-17  193.990005  133.559998  175.389999  211.869995  85.559998   \n",
      "2023-07-18  193.770004         NaN  177.960007  210.104996  86.279198   \n",
      "\n",
      "                 GOOGL         IBM         MU        TSLA         WMT  \n",
      "Date                                                                   \n",
      "2015-01-02   26.477501  106.693794  34.264706   14.620667   71.685669  \n",
      "2015-01-05   25.973000  105.014954  33.308254   14.006000   71.477036  \n",
      "2015-01-06   25.332001  102.750221  32.410961   14.085333   72.027817  \n",
      "2015-01-07   25.257500  102.078667  31.651714   14.063333   73.938873  \n",
      "2015-01-08   25.345501  104.297348  33.199795   14.041333   75.499420  \n",
      "...                ...         ...        ...         ...         ...  \n",
      "2023-07-12  118.930000  132.839996  63.790001  271.989990  155.039993  \n",
      "2023-07-13  124.540001  133.919998  64.529999  277.899994  154.130005  \n",
      "2023-07-14  125.419998  133.399994  64.080002  281.380005  154.660004  \n",
      "2023-07-17  124.650002  134.240005  65.160004  290.380005  154.850006  \n",
      "2023-07-18  124.324997  134.970001        NaN  291.859985  154.595001  \n",
      "\n",
      "[2149 rows x 10 columns]\n"
     ]
    }
   ],
   "source": [
    "print(data)"
   ]
  },
  {
   "cell_type": "code",
   "execution_count": 13,
   "metadata": {},
   "outputs": [
    {
     "data": {
      "text/html": [
       "<div>\n",
       "<style scoped>\n",
       "    .dataframe tbody tr th:only-of-type {\n",
       "        vertical-align: middle;\n",
       "    }\n",
       "\n",
       "    .dataframe tbody tr th {\n",
       "        vertical-align: top;\n",
       "    }\n",
       "\n",
       "    .dataframe thead th {\n",
       "        text-align: right;\n",
       "    }\n",
       "</style>\n",
       "<table border=\"1\" class=\"dataframe\">\n",
       "  <thead>\n",
       "    <tr style=\"text-align: right;\">\n",
       "      <th></th>\n",
       "      <th>AAPL</th>\n",
       "      <th>AMZN</th>\n",
       "      <th>AXP</th>\n",
       "      <th>BA</th>\n",
       "      <th>DIS</th>\n",
       "      <th>GOOGL</th>\n",
       "      <th>IBM</th>\n",
       "      <th>MU</th>\n",
       "      <th>TSLA</th>\n",
       "      <th>WMT</th>\n",
       "    </tr>\n",
       "    <tr>\n",
       "      <th>Date</th>\n",
       "      <th></th>\n",
       "      <th></th>\n",
       "      <th></th>\n",
       "      <th></th>\n",
       "      <th></th>\n",
       "      <th></th>\n",
       "      <th></th>\n",
       "      <th></th>\n",
       "      <th></th>\n",
       "      <th></th>\n",
       "    </tr>\n",
       "  </thead>\n",
       "  <tbody>\n",
       "    <tr>\n",
       "      <th>2015-01-02</th>\n",
       "      <td>24.531765</td>\n",
       "      <td>15.426000</td>\n",
       "      <td>81.618019</td>\n",
       "      <td>113.657227</td>\n",
       "      <td>87.376259</td>\n",
       "      <td>26.477501</td>\n",
       "      <td>106.693794</td>\n",
       "      <td>34.264706</td>\n",
       "      <td>14.620667</td>\n",
       "      <td>71.685669</td>\n",
       "    </tr>\n",
       "    <tr>\n",
       "      <th>2015-01-05</th>\n",
       "      <td>23.840668</td>\n",
       "      <td>15.109500</td>\n",
       "      <td>79.459549</td>\n",
       "      <td>112.870071</td>\n",
       "      <td>86.099403</td>\n",
       "      <td>25.973000</td>\n",
       "      <td>105.014954</td>\n",
       "      <td>33.308254</td>\n",
       "      <td>14.006000</td>\n",
       "      <td>71.477036</td>\n",
       "    </tr>\n",
       "    <tr>\n",
       "      <th>2015-01-06</th>\n",
       "      <td>23.842909</td>\n",
       "      <td>14.764500</td>\n",
       "      <td>77.766106</td>\n",
       "      <td>111.540627</td>\n",
       "      <td>85.642715</td>\n",
       "      <td>25.332001</td>\n",
       "      <td>102.750221</td>\n",
       "      <td>32.410961</td>\n",
       "      <td>14.085333</td>\n",
       "      <td>72.027817</td>\n",
       "    </tr>\n",
       "    <tr>\n",
       "      <th>2015-01-07</th>\n",
       "      <td>24.177237</td>\n",
       "      <td>14.921000</td>\n",
       "      <td>79.464531</td>\n",
       "      <td>113.272392</td>\n",
       "      <td>86.518814</td>\n",
       "      <td>25.257500</td>\n",
       "      <td>102.078667</td>\n",
       "      <td>31.651714</td>\n",
       "      <td>14.063333</td>\n",
       "      <td>73.938873</td>\n",
       "    </tr>\n",
       "    <tr>\n",
       "      <th>2015-01-08</th>\n",
       "      <td>25.106184</td>\n",
       "      <td>15.023000</td>\n",
       "      <td>80.590919</td>\n",
       "      <td>115.275276</td>\n",
       "      <td>87.413544</td>\n",
       "      <td>25.345501</td>\n",
       "      <td>104.297348</td>\n",
       "      <td>33.199795</td>\n",
       "      <td>14.041333</td>\n",
       "      <td>75.499420</td>\n",
       "    </tr>\n",
       "    <tr>\n",
       "      <th>...</th>\n",
       "      <td>...</td>\n",
       "      <td>...</td>\n",
       "      <td>...</td>\n",
       "      <td>...</td>\n",
       "      <td>...</td>\n",
       "      <td>...</td>\n",
       "      <td>...</td>\n",
       "      <td>...</td>\n",
       "      <td>...</td>\n",
       "      <td>...</td>\n",
       "    </tr>\n",
       "    <tr>\n",
       "      <th>2023-07-11</th>\n",
       "      <td>188.080002</td>\n",
       "      <td>128.779999</td>\n",
       "      <td>174.639999</td>\n",
       "      <td>218.759995</td>\n",
       "      <td>89.489998</td>\n",
       "      <td>117.139999</td>\n",
       "      <td>134.440002</td>\n",
       "      <td>63.599998</td>\n",
       "      <td>269.790009</td>\n",
       "      <td>154.649994</td>\n",
       "    </tr>\n",
       "    <tr>\n",
       "      <th>2023-07-12</th>\n",
       "      <td>189.770004</td>\n",
       "      <td>130.800003</td>\n",
       "      <td>174.330002</td>\n",
       "      <td>217.110001</td>\n",
       "      <td>90.150002</td>\n",
       "      <td>118.930000</td>\n",
       "      <td>132.839996</td>\n",
       "      <td>63.790001</td>\n",
       "      <td>271.989990</td>\n",
       "      <td>155.039993</td>\n",
       "    </tr>\n",
       "    <tr>\n",
       "      <th>2023-07-13</th>\n",
       "      <td>190.539993</td>\n",
       "      <td>134.300003</td>\n",
       "      <td>174.240005</td>\n",
       "      <td>216.850006</td>\n",
       "      <td>90.470001</td>\n",
       "      <td>124.540001</td>\n",
       "      <td>133.919998</td>\n",
       "      <td>64.529999</td>\n",
       "      <td>277.899994</td>\n",
       "      <td>154.130005</td>\n",
       "    </tr>\n",
       "    <tr>\n",
       "      <th>2023-07-14</th>\n",
       "      <td>190.690002</td>\n",
       "      <td>134.679993</td>\n",
       "      <td>173.389999</td>\n",
       "      <td>213.119995</td>\n",
       "      <td>88.620003</td>\n",
       "      <td>125.419998</td>\n",
       "      <td>133.399994</td>\n",
       "      <td>64.080002</td>\n",
       "      <td>281.380005</td>\n",
       "      <td>154.660004</td>\n",
       "    </tr>\n",
       "    <tr>\n",
       "      <th>2023-07-17</th>\n",
       "      <td>193.990005</td>\n",
       "      <td>133.559998</td>\n",
       "      <td>175.389999</td>\n",
       "      <td>211.869995</td>\n",
       "      <td>85.559998</td>\n",
       "      <td>124.650002</td>\n",
       "      <td>134.240005</td>\n",
       "      <td>65.160004</td>\n",
       "      <td>290.380005</td>\n",
       "      <td>154.850006</td>\n",
       "    </tr>\n",
       "  </tbody>\n",
       "</table>\n",
       "<p>2148 rows × 10 columns</p>\n",
       "</div>"
      ],
      "text/plain": [
       "                  AAPL        AMZN         AXP          BA        DIS  \\\n",
       "Date                                                                    \n",
       "2015-01-02   24.531765   15.426000   81.618019  113.657227  87.376259   \n",
       "2015-01-05   23.840668   15.109500   79.459549  112.870071  86.099403   \n",
       "2015-01-06   23.842909   14.764500   77.766106  111.540627  85.642715   \n",
       "2015-01-07   24.177237   14.921000   79.464531  113.272392  86.518814   \n",
       "2015-01-08   25.106184   15.023000   80.590919  115.275276  87.413544   \n",
       "...                ...         ...         ...         ...        ...   \n",
       "2023-07-11  188.080002  128.779999  174.639999  218.759995  89.489998   \n",
       "2023-07-12  189.770004  130.800003  174.330002  217.110001  90.150002   \n",
       "2023-07-13  190.539993  134.300003  174.240005  216.850006  90.470001   \n",
       "2023-07-14  190.690002  134.679993  173.389999  213.119995  88.620003   \n",
       "2023-07-17  193.990005  133.559998  175.389999  211.869995  85.559998   \n",
       "\n",
       "                 GOOGL         IBM         MU        TSLA         WMT  \n",
       "Date                                                                   \n",
       "2015-01-02   26.477501  106.693794  34.264706   14.620667   71.685669  \n",
       "2015-01-05   25.973000  105.014954  33.308254   14.006000   71.477036  \n",
       "2015-01-06   25.332001  102.750221  32.410961   14.085333   72.027817  \n",
       "2015-01-07   25.257500  102.078667  31.651714   14.063333   73.938873  \n",
       "2015-01-08   25.345501  104.297348  33.199795   14.041333   75.499420  \n",
       "...                ...         ...        ...         ...         ...  \n",
       "2023-07-11  117.139999  134.440002  63.599998  269.790009  154.649994  \n",
       "2023-07-12  118.930000  132.839996  63.790001  271.989990  155.039993  \n",
       "2023-07-13  124.540001  133.919998  64.529999  277.899994  154.130005  \n",
       "2023-07-14  125.419998  133.399994  64.080002  281.380005  154.660004  \n",
       "2023-07-17  124.650002  134.240005  65.160004  290.380005  154.850006  \n",
       "\n",
       "[2148 rows x 10 columns]"
      ]
     },
     "execution_count": 13,
     "metadata": {},
     "output_type": "execute_result"
    }
   ],
   "source": [
    "data.dropna()"
   ]
  },
  {
   "cell_type": "code",
   "execution_count": 14,
   "metadata": {},
   "outputs": [],
   "source": [
    "import numpy as np\n",
    "import pandas as pd\n",
    "import tensorflow as tf\n",
    "from sklearn.metrics import accuracy_score, precision_score, recall_score\n",
    "from sklearn.model_selection import train_test_split"
   ]
  },
  {
   "cell_type": "code",
   "execution_count": 15,
   "metadata": {},
   "outputs": [],
   "source": [
    "\n",
    "# Define the parsimonious neural network model\n",
    "def build_model(input_dim, output_dim):\n",
    "    # input_dim = data.shape[0]\n",
    "    # output_dim = data.shape[1]\n",
    "    model = tf.keras.Sequential([\n",
    "        tf.keras.layers.Dense(32, activation='relu', input_shape=(input_dim,)),\n",
    "        tf.keras.layers.Dense(output_dim, activation='softmax')\n",
    "    ])\n",
    "    return model"
   ]
  },
  {
   "cell_type": "code",
   "execution_count": 16,
   "metadata": {},
   "outputs": [],
   "source": [
    "# Define the portfolio optimization problem\n",
    "def portfolio_optimization(inputs):\n",
    "    # Define your objective function and constraints\n",
    "    # You can use any suitable optimization formulation\n",
    "    \n",
    "    # For example, minimize the risk (variance) subject to a target return\n",
    "    expected_returns = np.mean(inputs, axis=0)\n",
    "    cov_matrix = np.cov(inputs, rowvar=False)\n",
    "    target_return = 0.1\n",
    "    \n",
    "    num_assets = inputs.shape[1]\n",
    "    \n",
    "    # Define objective function\n",
    "    def objective(weights):\n",
    "        variance = np.dot(np.dot(weights, cov_matrix), weights.T)\n",
    "        return variance\n",
    "    \n",
    "    # Define constraint function for target return\n",
    "    def constraint(weights):\n",
    "        return np.dot(weights, expected_returns) - target_return\n",
    "    \n",
    "    return objective, constraint, num_assets\n",
    "\n",
    "# # Load historical stock data separately for each stock\n",
    "# stock_data = {}\n",
    "\n",
    "# # Replace the placeholders with the actual filenames for each stock\n",
    "# stock_data['AAPL'] = pd.read_csv('AAPL.csv')\n",
    "# stock_data['GOOGL'] = pd.read_csv('GOOGL.csv')\n",
    "# stock_data['MSFT'] = pd.read_csv('MSFT.csv')\n",
    "# stock_data['AMZN'] = pd.read_csv('AMZN.csv')\n",
    "# stock_data['FB'] = pd.read_csv('FB.csv')\n",
    "# stock_data['JPM'] = pd.read_csv('JPM.csv')\n",
    "# stock_data['WMT'] = pd.read_csv('WMT.csv')\n",
    "# stock_data['TSLA'] = pd.read_csv('TSLA.csv')\n",
    "# stock_data['BRK.A'] = pd.read_csv('BRK.A.csv')\n",
    "# stock_data['V'] = pd.read_csv('V.csv')\n",
    "\n",
    "# # Merge stock data into a single dataframe\n",
    "# merged_data = pd.DataFrame()\n",
    "# for symbol in stock_data:\n",
    "#     stock_returns = (stock_data[symbol]['Close'] - stock_data[symbol]['Close'].shift(1)) / stock_data[symbol]['Close'].shift(1)\n",
    "#     merged_data[symbol] = stock_returns\n",
    "\n",
    "# merged_data = merged_data.dropna()  # Drop rows with missing values\n"
   ]
  },
  {
   "cell_type": "code",
   "execution_count": 17,
   "metadata": {},
   "outputs": [],
   "source": [
    "# Define the portfolio optimization problem\n",
    "objective_fn, constraint_fn, num_assets = portfolio_optimization(data.values)"
   ]
  },
  {
   "cell_type": "code",
   "execution_count": 18,
   "metadata": {},
   "outputs": [],
   "source": [
    "# Prepare the data for training and testing the model\n",
    "X = data.values\n",
    "y = np.zeros((data.shape[0], num_assets))\n",
    "X_train, X_test, y_train, y_test = train_test_split(X, y, test_size=0.3, random_state=42)\n"
   ]
  },
  {
   "cell_type": "code",
   "execution_count": 19,
   "metadata": {},
   "outputs": [],
   "source": [
    "# Build the neural network model\n",
    "model = build_model(num_assets, num_assets)"
   ]
  },
  {
   "cell_type": "code",
   "execution_count": 20,
   "metadata": {},
   "outputs": [],
   "source": [
    "# Compile the model\n",
    "model.compile(optimizer='adam', loss='categorical_crossentropy')"
   ]
  },
  {
   "cell_type": "code",
   "execution_count": 21,
   "metadata": {},
   "outputs": [
    {
     "data": {
      "text/plain": [
       "<keras.callbacks.History at 0x24877a3a950>"
      ]
     },
     "execution_count": 21,
     "metadata": {},
     "output_type": "execute_result"
    }
   ],
   "source": [
    "# Train the model\n",
    "model.fit(X_train, y_train, epochs=100, verbose=0)"
   ]
  },
  {
   "cell_type": "code",
   "execution_count": 34,
   "metadata": {},
   "outputs": [
    {
     "name": "stdout",
     "output_type": "stream",
     "text": [
      "[[110.28791809 153.90499878 101.90327454 ...  49.50880051 147.25332642\n",
      "  130.53741455]\n",
      " [ 50.82343292  88.8144989  113.74967194 ...  44.63779831  15.04066658\n",
      "  107.57512665]\n",
      " [ 45.05770111  80.14550018  94.13908386 ...  51.09632492  20.07066727\n",
      "   76.4252243 ]\n",
      " ...\n",
      " [ 48.88708878  96.10949707 117.68140411 ...  39.54985428  15.14466667\n",
      "  103.63793182]\n",
      " [ 70.51846313  98.63700104 115.08499908 ...  51.37240982  53.32733154\n",
      "  108.18058777]\n",
      " [ 45.83179855  83.2634964   92.31052399 ...  58.27464676  19.78266716\n",
      "   78.29508972]]\n"
     ]
    }
   ],
   "source": [
    "print(X_train)"
   ]
  },
  {
   "cell_type": "code",
   "execution_count": 35,
   "metadata": {},
   "outputs": [
    {
     "name": "stdout",
     "output_type": "stream",
     "text": [
      "[[ 48.81231689  89.2460022  117.13276672 ...  41.54165268  15.26733303\n",
      "   99.06401062]\n",
      " [177.63674927 169.31500244 186.97930908 ...  81.10363007 366.52334595\n",
      "  144.36968994]\n",
      " [ 44.71667099  75.61450195 101.20344543 ...  36.3156662   23.56466675\n",
      "   89.22275543]\n",
      " ...\n",
      " [ 37.99281311  49.12900162  79.44801331 ...  33.81113434  24.18333244\n",
      "   71.70522308]\n",
      " [137.70985413 112.90000153 134.78622437 ...  52.42543793 217.24000549\n",
      "  129.65144348]\n",
      " [133.33831787 163.10650635 124.32402802 ...  85.27228546 270.55334473\n",
      "  138.47584534]]\n"
     ]
    }
   ],
   "source": [
    "print(X_test)"
   ]
  },
  {
   "cell_type": "code",
   "execution_count": 36,
   "metadata": {},
   "outputs": [
    {
     "name": "stdout",
     "output_type": "stream",
     "text": [
      "[[0. 0. 0. ... 0. 0. 0.]\n",
      " [0. 0. 0. ... 0. 0. 0.]\n",
      " [0. 0. 0. ... 0. 0. 0.]\n",
      " ...\n",
      " [0. 0. 0. ... 0. 0. 0.]\n",
      " [0. 0. 0. ... 0. 0. 0.]\n",
      " [0. 0. 0. ... 0. 0. 0.]]\n"
     ]
    }
   ],
   "source": [
    "print(y_train)"
   ]
  },
  {
   "cell_type": "code",
   "execution_count": 32,
   "metadata": {},
   "outputs": [],
   "source": [
    "# Extract the weights from the trained model\n",
    "weights = model.get_weights() #[0]"
   ]
  },
  {
   "cell_type": "code",
   "execution_count": 23,
   "metadata": {},
   "outputs": [],
   "source": [
    "# Normalize the weights to get portfolio allocations\n",
    "portfolio_allocations = weights / np.sum(weights, axis=1, keepdims=True)"
   ]
  },
  {
   "cell_type": "code",
   "execution_count": 33,
   "metadata": {},
   "outputs": [
    {
     "name": "stdout",
     "output_type": "stream",
     "text": [
      "[array([[nan, nan, nan, nan, nan, nan, nan, nan, nan, nan, nan, nan, nan,\n",
      "        nan, nan, nan, nan, nan, nan, nan, nan, nan, nan, nan, nan, nan,\n",
      "        nan, nan, nan, nan, nan, nan],\n",
      "       [nan, nan, nan, nan, nan, nan, nan, nan, nan, nan, nan, nan, nan,\n",
      "        nan, nan, nan, nan, nan, nan, nan, nan, nan, nan, nan, nan, nan,\n",
      "        nan, nan, nan, nan, nan, nan],\n",
      "       [nan, nan, nan, nan, nan, nan, nan, nan, nan, nan, nan, nan, nan,\n",
      "        nan, nan, nan, nan, nan, nan, nan, nan, nan, nan, nan, nan, nan,\n",
      "        nan, nan, nan, nan, nan, nan],\n",
      "       [nan, nan, nan, nan, nan, nan, nan, nan, nan, nan, nan, nan, nan,\n",
      "        nan, nan, nan, nan, nan, nan, nan, nan, nan, nan, nan, nan, nan,\n",
      "        nan, nan, nan, nan, nan, nan],\n",
      "       [nan, nan, nan, nan, nan, nan, nan, nan, nan, nan, nan, nan, nan,\n",
      "        nan, nan, nan, nan, nan, nan, nan, nan, nan, nan, nan, nan, nan,\n",
      "        nan, nan, nan, nan, nan, nan],\n",
      "       [nan, nan, nan, nan, nan, nan, nan, nan, nan, nan, nan, nan, nan,\n",
      "        nan, nan, nan, nan, nan, nan, nan, nan, nan, nan, nan, nan, nan,\n",
      "        nan, nan, nan, nan, nan, nan],\n",
      "       [nan, nan, nan, nan, nan, nan, nan, nan, nan, nan, nan, nan, nan,\n",
      "        nan, nan, nan, nan, nan, nan, nan, nan, nan, nan, nan, nan, nan,\n",
      "        nan, nan, nan, nan, nan, nan],\n",
      "       [nan, nan, nan, nan, nan, nan, nan, nan, nan, nan, nan, nan, nan,\n",
      "        nan, nan, nan, nan, nan, nan, nan, nan, nan, nan, nan, nan, nan,\n",
      "        nan, nan, nan, nan, nan, nan],\n",
      "       [nan, nan, nan, nan, nan, nan, nan, nan, nan, nan, nan, nan, nan,\n",
      "        nan, nan, nan, nan, nan, nan, nan, nan, nan, nan, nan, nan, nan,\n",
      "        nan, nan, nan, nan, nan, nan],\n",
      "       [nan, nan, nan, nan, nan, nan, nan, nan, nan, nan, nan, nan, nan,\n",
      "        nan, nan, nan, nan, nan, nan, nan, nan, nan, nan, nan, nan, nan,\n",
      "        nan, nan, nan, nan, nan, nan]], dtype=float32), array([nan, nan, nan, nan, nan, nan, nan, nan, nan, nan, nan, nan, nan,\n",
      "       nan, nan, nan, nan, nan, nan, nan, nan, nan, nan, nan, nan, nan,\n",
      "       nan, nan, nan, nan, nan, nan], dtype=float32), array([[nan, nan, nan, nan, nan, nan, nan, nan, nan, nan],\n",
      "       [nan, nan, nan, nan, nan, nan, nan, nan, nan, nan],\n",
      "       [nan, nan, nan, nan, nan, nan, nan, nan, nan, nan],\n",
      "       [nan, nan, nan, nan, nan, nan, nan, nan, nan, nan],\n",
      "       [nan, nan, nan, nan, nan, nan, nan, nan, nan, nan],\n",
      "       [nan, nan, nan, nan, nan, nan, nan, nan, nan, nan],\n",
      "       [nan, nan, nan, nan, nan, nan, nan, nan, nan, nan],\n",
      "       [nan, nan, nan, nan, nan, nan, nan, nan, nan, nan],\n",
      "       [nan, nan, nan, nan, nan, nan, nan, nan, nan, nan],\n",
      "       [nan, nan, nan, nan, nan, nan, nan, nan, nan, nan],\n",
      "       [nan, nan, nan, nan, nan, nan, nan, nan, nan, nan],\n",
      "       [nan, nan, nan, nan, nan, nan, nan, nan, nan, nan],\n",
      "       [nan, nan, nan, nan, nan, nan, nan, nan, nan, nan],\n",
      "       [nan, nan, nan, nan, nan, nan, nan, nan, nan, nan],\n",
      "       [nan, nan, nan, nan, nan, nan, nan, nan, nan, nan],\n",
      "       [nan, nan, nan, nan, nan, nan, nan, nan, nan, nan],\n",
      "       [nan, nan, nan, nan, nan, nan, nan, nan, nan, nan],\n",
      "       [nan, nan, nan, nan, nan, nan, nan, nan, nan, nan],\n",
      "       [nan, nan, nan, nan, nan, nan, nan, nan, nan, nan],\n",
      "       [nan, nan, nan, nan, nan, nan, nan, nan, nan, nan],\n",
      "       [nan, nan, nan, nan, nan, nan, nan, nan, nan, nan],\n",
      "       [nan, nan, nan, nan, nan, nan, nan, nan, nan, nan],\n",
      "       [nan, nan, nan, nan, nan, nan, nan, nan, nan, nan],\n",
      "       [nan, nan, nan, nan, nan, nan, nan, nan, nan, nan],\n",
      "       [nan, nan, nan, nan, nan, nan, nan, nan, nan, nan],\n",
      "       [nan, nan, nan, nan, nan, nan, nan, nan, nan, nan],\n",
      "       [nan, nan, nan, nan, nan, nan, nan, nan, nan, nan],\n",
      "       [nan, nan, nan, nan, nan, nan, nan, nan, nan, nan],\n",
      "       [nan, nan, nan, nan, nan, nan, nan, nan, nan, nan],\n",
      "       [nan, nan, nan, nan, nan, nan, nan, nan, nan, nan],\n",
      "       [nan, nan, nan, nan, nan, nan, nan, nan, nan, nan],\n",
      "       [nan, nan, nan, nan, nan, nan, nan, nan, nan, nan]], dtype=float32), array([nan, nan, nan, nan, nan, nan, nan, nan, nan, nan], dtype=float32)]\n"
     ]
    }
   ],
   "source": [
    "print(weights)"
   ]
  },
  {
   "cell_type": "code",
   "execution_count": 24,
   "metadata": {},
   "outputs": [],
   "source": [
    "# Rebalance the portfolio based on the calculated allocations\n",
    "portfolio_value = 1000000  # Initial portfolio value\n",
    "investment_amounts = portfolio_value * portfolio_allocations[-1]  # Use the latest allocation\n"
   ]
  },
  {
   "cell_type": "code",
   "execution_count": 41,
   "metadata": {},
   "outputs": [
    {
     "data": {
      "text/plain": [
       "10"
      ]
     },
     "execution_count": 41,
     "metadata": {},
     "output_type": "execute_result"
    }
   ],
   "source": [
    "print(portfolio_allocations[-1].shape)"
   ]
  },
  {
   "cell_type": "code",
   "execution_count": 25,
   "metadata": {},
   "outputs": [],
   "source": [
    "# Generate buy/sell/retain/ignore signals based on the rebalanced portfolio\n",
    "stock_signals = {}\n",
    "for symbol, allocation in zip(data.columns, portfolio_allocations[-1]):\n",
    "    if allocation.argmax() == 0:\n",
    "        stock_signals[symbol] = \"Buy\"\n",
    "    elif allocation.argmax() == 1:\n",
    "        stock_signals[symbol] = \"Sell\"\n",
    "    elif allocation.argmax() == 2:\n",
    "        stock_signals[symbol] = \"Retain\"\n",
    "    else:\n",
    "        stock_signals[symbol] = \"Ignore\""
   ]
  },
  {
   "cell_type": "code",
   "execution_count": null,
   "metadata": {},
   "outputs": [],
   "source": [
    "# Calculate model performance metrics on the test set\n",
    "y_pred = model.predict(X_test)\n",
    "y_pred_labels = np.argmax(y_pred, axis=1)\n",
    "y_test_labels = np.argmax(y_test, axis=1)\n",
    "\n",
    "accuracy = accuracy_score(y_test_labels, y_pred_labels)\n",
    "precision = precision_score(y_test_labels, y_pred_labels, average='macro')\n",
    "recall = recall_score(y_test_labels, y_pred_labels, average='macro')\n",
    "loss = model.evaluate(X_test, y_test, verbose=0)\n",
    "\n",
    "# print(\"Investment amounts after rebalancing:\")\n",
    "# print(investment_amounts)"
   ]
  },
  {
   "cell_type": "code",
   "execution_count": 27,
   "metadata": {},
   "outputs": [
    {
     "name": "stdout",
     "output_type": "stream",
     "text": [
      "Stock signals:\n",
      "{'AAPL': 'Buy', 'AMZN': 'Buy', 'AXP': 'Buy', 'BA': 'Buy', 'DIS': 'Buy', 'GOOGL': 'Buy', 'IBM': 'Buy', 'MU': 'Buy', 'TSLA': 'Buy', 'WMT': 'Buy'}\n"
     ]
    }
   ],
   "source": [
    "print(\"Stock signals:\")\n",
    "print(stock_signals)"
   ]
  },
  {
   "cell_type": "code",
   "execution_count": 37,
   "metadata": {},
   "outputs": [
    {
     "name": "stdout",
     "output_type": "stream",
     "text": [
      "Accuracy: 1.0\n",
      "Precision: 1.0\n",
      "Recall: 1.0\n",
      "Loss: nan\n"
     ]
    }
   ],
   "source": [
    "print(\"Accuracy:\", accuracy)\n",
    "print(\"Precision:\", precision)\n",
    "print(\"Recall:\", recall)\n",
    "print(\"Loss:\", loss)"
   ]
  }
 ],
 "metadata": {
  "kernelspec": {
   "display_name": "Python 3",
   "language": "python",
   "name": "python3"
  },
  "language_info": {
   "codemirror_mode": {
    "name": "ipython",
    "version": 3
   },
   "file_extension": ".py",
   "mimetype": "text/x-python",
   "name": "python",
   "nbconvert_exporter": "python",
   "pygments_lexer": "ipython3",
   "version": "3.11.1"
  },
  "orig_nbformat": 4
 },
 "nbformat": 4,
 "nbformat_minor": 2
}
