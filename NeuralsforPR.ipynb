{
 "cells": [
  {
   "cell_type": "code",
   "execution_count": 1,
   "metadata": {},
   "outputs": [],
   "source": [
    "import numpy as np\n",
    "import pandas as pd\n",
    "import tensorflow as tf"
   ]
  },
  {
   "cell_type": "code",
   "execution_count": 28,
   "metadata": {},
   "outputs": [],
   "source": [
    "# Load historical stock data\n",
    "data = pd.read_csv('Nifty_200_scripts.csv')\n",
    "data.drop('Date',axis=1,inplace=True)\n",
    "data.drop('Symbol',axis=1,inplace=True)"
   ]
  },
  {
   "cell_type": "code",
   "execution_count": 29,
   "metadata": {},
   "outputs": [
    {
     "name": "stdout",
     "output_type": "stream",
     "text": [
      "(728197, 5)\n"
     ]
    }
   ],
   "source": [
    "print(data.shape)"
   ]
  },
  {
   "cell_type": "code",
   "execution_count": 30,
   "metadata": {},
   "outputs": [],
   "source": [
    "# Define the number of assets\n",
    "num_assets = len(data.columns)\n",
    "\n",
    "# Prepare the data for training the model\n",
    "X = data.values[:-1]  # Use all but the last row as input\n",
    "y = data.values[1:]   # Shifted by one row as target"
   ]
  },
  {
   "cell_type": "code",
   "execution_count": 31,
   "metadata": {},
   "outputs": [],
   "source": [
    "# Split the data into training and testing sets\n",
    "split = int(0.8 * len(X))\n",
    "X_train, X_test = X[:split], X[split:]\n",
    "y_train, y_test = y[:split], y[split:]\n"
   ]
  },
  {
   "cell_type": "code",
   "execution_count": 32,
   "metadata": {},
   "outputs": [],
   "source": [
    "X_train = np.asarray(X_train).astype(np.float32)\n",
    "y_train = np.asarray(y_train).astype(np.float32)"
   ]
  },
  {
   "cell_type": "code",
   "execution_count": 33,
   "metadata": {},
   "outputs": [],
   "source": [
    "# Define the neural network model\n",
    "def build_model(input_dim, output_dim):\n",
    "    model = tf.keras.Sequential([\n",
    "        tf.keras.layers.Dense(32, activation='relu', input_shape=(input_dim,)),\n",
    "        tf.keras.layers.Dense(output_dim, activation='softmax')\n",
    "    ])\n",
    "    return model"
   ]
  },
  {
   "cell_type": "code",
   "execution_count": 34,
   "metadata": {},
   "outputs": [],
   "source": [
    "# Build the neural network model\n",
    "model = build_model(num_assets, num_assets)"
   ]
  },
  {
   "cell_type": "code",
   "execution_count": 35,
   "metadata": {},
   "outputs": [
    {
     "data": {
      "text/plain": [
       "<keras.callbacks.History at 0x2d55688b610>"
      ]
     },
     "execution_count": 35,
     "metadata": {},
     "output_type": "execute_result"
    }
   ],
   "source": [
    "# Compile the model\n",
    "model.compile(optimizer='adam', loss='categorical_crossentropy')\n",
    "\n",
    "# Train the model\n",
    "model.fit(X_train, y_train, epochs=100, verbose=0)\n"
   ]
  },
  {
   "cell_type": "code",
   "execution_count": 36,
   "metadata": {},
   "outputs": [
    {
     "name": "stdout",
     "output_type": "stream",
     "text": [
      "1/1 [==============================] - 5s 5s/step\n"
     ]
    }
   ],
   "source": [
    "# Predict the portfolio allocation for the next time step\n",
    "last_row = data.values[-1].reshape(1, num_assets)\n",
    "portfolio_allocation = model.predict(last_row)\n"
   ]
  },
  {
   "cell_type": "code",
   "execution_count": 37,
   "metadata": {},
   "outputs": [],
   "source": [
    "# Normalize the portfolio allocation to ensure it sums up to 1\n",
    "portfolio_allocation /= np.sum(portfolio_allocation)"
   ]
  },
  {
   "cell_type": "code",
   "execution_count": 38,
   "metadata": {},
   "outputs": [],
   "source": [
    "# Calculate portfolio returns over the next week\n",
    "next_week_returns = data.values[-7:]  # Assume 7 days of returns\n",
    "portfolio_returns = np.dot(next_week_returns, portfolio_allocation.T)"
   ]
  },
  {
   "cell_type": "code",
   "execution_count": 40,
   "metadata": {},
   "outputs": [
    {
     "name": "stdout",
     "output_type": "stream",
     "text": [
      "[[1.415000e+01 1.420000e+01 1.380000e+01 1.385000e+01 6.556760e+07]\n",
      " [1.385000e+01 1.420000e+01 1.375000e+01 1.390000e+01 1.051694e+08]\n",
      " [2.760000e+02 2.806500e+02 2.738500e+02 2.755000e+02 5.716400e+06]\n",
      " [2.760500e+02 2.780000e+02 2.673000e+02 2.708000e+02 6.048800e+06]\n",
      " [2.730000e+02 2.763000e+02 2.671000e+02 2.681000e+02 8.165800e+06]\n",
      " [2.699000e+02 2.706000e+02 2.630000e+02 2.638000e+02 1.237560e+07]\n",
      " [2.635000e+02 2.675000e+02 2.607000e+02 2.619000e+02 1.109690e+07]]\n"
     ]
    }
   ],
   "source": [
    "print(next_week_returns)"
   ]
  },
  {
   "cell_type": "code",
   "execution_count": 39,
   "metadata": {},
   "outputs": [
    {
     "name": "stdout",
     "output_type": "stream",
     "text": [
      "Portfolio Allocation:\n",
      "Open: nan\n",
      "High: nan\n",
      "Low: nan\n",
      "Close: nan\n",
      "Volume: nan\n",
      "Total Portfolio Return: nan\n"
     ]
    }
   ],
   "source": [
    "# Calculate total portfolio return over the next week\n",
    "total_portfolio_return = np.sum(portfolio_returns)\n",
    "\n",
    "# Print the portfolio allocation and total return\n",
    "print(\"Portfolio Allocation:\")\n",
    "for i, asset in enumerate(data.columns):\n",
    "    print(f\"{asset}: {portfolio_allocation[0][i]}\")\n",
    "print(\"Total Portfolio Return:\", total_portfolio_return)"
   ]
  }
 ],
 "metadata": {
  "kernelspec": {
   "display_name": "Python 3",
   "language": "python",
   "name": "python3"
  },
  "language_info": {
   "codemirror_mode": {
    "name": "ipython",
    "version": 3
   },
   "file_extension": ".py",
   "mimetype": "text/x-python",
   "name": "python",
   "nbconvert_exporter": "python",
   "pygments_lexer": "ipython3",
   "version": "3.11.1"
  },
  "orig_nbformat": 4
 },
 "nbformat": 4,
 "nbformat_minor": 2
}
