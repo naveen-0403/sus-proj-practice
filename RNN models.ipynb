import pandas as pd
import numpy as np
from sklearn.preprocessing import MinMaxScaler
from sklearn.model_selection import train_test_split
from sklearn.metrics import accuracy_score
import tensorflow as tf
from tensorflow.keras.models import Sequential
from tensorflow.keras.layers import Dense, LSTM

# Define the list of stock symbols
stock_symbols = ['AAPL', 'GOOGL', 'MSFT', 'AMZN', 'FB', 'NFLX', 'TSLA', 'IBM', 'INTC', 'NVDA']

# Load historical data for each stock and merge them into a single dataframe
dataframes = []
for symbol in stock_symbols:
    # Load data for each stock into a pandas dataframe
    df = pd.read_csv(f'{symbol}_historical_data.csv')  # Replace with your own data source
    dataframes.append(df)

# Merge the dataframes into a single portfolio dataframe
portfolio_df = pd.concat(dataframes, axis=1)

# Perform any required preprocessing on the portfolio dataframe
# ...

# Define the features and target variable
X = portfolio_df.drop(columns=['target'])  # Replace 'target' with your target column name
y = portfolio_df['target']  # Replace 'target' with your target column name

# Split the data into training and testing sets
X_train, X_test, y_train, y_test = train_test_split(X, y, test_size=0.2, random_state=42)

# Normalize the data
scaler = MinMaxScaler()
X_train = scaler.fit_transform(X_train)
X_test = scaler.transform(X_test)

# Reshape the data for LSTM input
# Assuming you want to use a sequence length of 10 (adjust as needed)
sequence_length = 10
X_train = np.reshape(X_train, (X_train.shape[0], sequence_length, X_train.shape[1]))
X_test = np.reshape(X_test, (X_test.shape[0], sequence_length, X_test.shape[1]))

# Define and train the recurrent neural network (RNN) model with LSTM
model = Sequential()
model.add(LSTM(64, input_shape=(sequence_length, X_train.shape[2]), activation='relu'))
# Add more layers as needed
# ...

model.add(Dense(1, activation='sigmoid'))  # Assuming binary classification for buy/sell signals

model.compile(loss='binary_crossentropy', optimizer='adam', metrics=['accuracy'])
model.fit(X_train, y_train, epochs=10, batch_size=32)

# Generate predictions on the test set
y_pred = model.predict(X_test)
y_pred_binary = np.round(y_pred)

# Convert the predictions to buy/sell signals
buy_sell_signals = ['Buy' if pred > 0.5 else 'Sell' for pred in y_pred_binary]

# Evaluate the model's accuracy
accuracy = accuracy_score(y_test, y_pred_binary)

print("Buy/Sell Signals:")
print(buy_sell_signals)
print(f"Accuracy: {accuracy}")
